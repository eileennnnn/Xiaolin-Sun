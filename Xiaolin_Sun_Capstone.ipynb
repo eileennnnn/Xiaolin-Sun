{
 "cells": [
  {
   "cell_type": "markdown",
   "metadata": {},
   "source": [
    "# Predictive Analysis of Exchange Rate of US and UK \n",
    "## - Can we use Purchasing Power Parity(PPP) Model to predict exchange rate?\n"
   ]
  },
  {
   "cell_type": "markdown",
   "metadata": {},
   "source": [
    "The Meese and Rogoff (1983) puzzle suggests that exchange rates are unable to predict since they are approximated by the random walk. This project analyzes the predictive performance for the dollar to pound exchange rate by applying the ARIMA model and purchasing power parity (PPP) model. The results confirm that the exchange rate follows a random walk."
   ]
  },
  {
   "cell_type": "markdown",
   "metadata": {},
   "source": [
    "# 1. Get Data: Exchange Rates of US and UK"
   ]
  },
  {
   "cell_type": "markdown",
   "metadata": {},
   "source": [
    "The data period is from January 1976 to November 2015 with a sum of 479 observations.British pound per dollar nominal exchange rates are obtained from the Federal Reserve Bank of St. Louis Economic Data(FRED). This project uses the United Kingdom as the domestic country, so exchange rates are defined as domestic prices per unit of the dollar, therefore, a rise in exchange rate indicates a depreciation of the British pound. \n",
    "\n",
    "**Note:** After handling missing values for the full datasets, it remains 478 observations for prediction models."
   ]
  },
  {
   "cell_type": "code",
   "execution_count": 443,
   "metadata": {
    "collapsed": false
   },
   "outputs": [
    {
     "data": {
      "text/html": [
       "<div>\n",
       "<style scoped>\n",
       "    .dataframe tbody tr th:only-of-type {\n",
       "        vertical-align: middle;\n",
       "    }\n",
       "\n",
       "    .dataframe tbody tr th {\n",
       "        vertical-align: top;\n",
       "    }\n",
       "\n",
       "    .dataframe thead th {\n",
       "        text-align: right;\n",
       "    }\n",
       "</style>\n",
       "<table border=\"1\" class=\"dataframe\">\n",
       "  <thead>\n",
       "    <tr style=\"text-align: right;\">\n",
       "      <th></th>\n",
       "      <th>FRED Graph Observations</th>\n",
       "      <th>Unnamed: 1</th>\n",
       "    </tr>\n",
       "  </thead>\n",
       "  <tbody>\n",
       "    <tr>\n",
       "      <th>0</th>\n",
       "      <td>Federal Reserve Economic Data</td>\n",
       "      <td>NaN</td>\n",
       "    </tr>\n",
       "    <tr>\n",
       "      <th>1</th>\n",
       "      <td>Link: https://fred.stlouisfed.org</td>\n",
       "      <td>NaN</td>\n",
       "    </tr>\n",
       "    <tr>\n",
       "      <th>2</th>\n",
       "      <td>Help: https://fred.stlouisfed.org/help-faq</td>\n",
       "      <td>NaN</td>\n",
       "    </tr>\n",
       "    <tr>\n",
       "      <th>3</th>\n",
       "      <td>Economic Research Division</td>\n",
       "      <td>NaN</td>\n",
       "    </tr>\n",
       "    <tr>\n",
       "      <th>4</th>\n",
       "      <td>Federal Reserve Bank of St. Louis</td>\n",
       "      <td>NaN</td>\n",
       "    </tr>\n",
       "    <tr>\n",
       "      <th>5</th>\n",
       "      <td>NaN</td>\n",
       "      <td>NaN</td>\n",
       "    </tr>\n",
       "    <tr>\n",
       "      <th>6</th>\n",
       "      <td>EXUSUK</td>\n",
       "      <td>U.S. / U.K. Foreign Exchange Rate, U.S. Dollar...</td>\n",
       "    </tr>\n",
       "    <tr>\n",
       "      <th>7</th>\n",
       "      <td>NaN</td>\n",
       "      <td>NaN</td>\n",
       "    </tr>\n",
       "    <tr>\n",
       "      <th>8</th>\n",
       "      <td>Frequency: Monthly</td>\n",
       "      <td>NaN</td>\n",
       "    </tr>\n",
       "    <tr>\n",
       "      <th>9</th>\n",
       "      <td>observation_date</td>\n",
       "      <td>EXUSUK</td>\n",
       "    </tr>\n",
       "    <tr>\n",
       "      <th>10</th>\n",
       "      <td>1976-01-01 00:00:00</td>\n",
       "      <td>2.0286</td>\n",
       "    </tr>\n",
       "    <tr>\n",
       "      <th>11</th>\n",
       "      <td>1976-02-01 00:00:00</td>\n",
       "      <td>2.0262</td>\n",
       "    </tr>\n",
       "    <tr>\n",
       "      <th>12</th>\n",
       "      <td>1976-03-01 00:00:00</td>\n",
       "      <td>1.9428</td>\n",
       "    </tr>\n",
       "    <tr>\n",
       "      <th>13</th>\n",
       "      <td>1976-04-01 00:00:00</td>\n",
       "      <td>1.8463</td>\n",
       "    </tr>\n",
       "    <tr>\n",
       "      <th>14</th>\n",
       "      <td>1976-05-01 00:00:00</td>\n",
       "      <td>1.8079</td>\n",
       "    </tr>\n",
       "  </tbody>\n",
       "</table>\n",
       "</div>"
      ],
      "text/plain": [
       "                       FRED Graph Observations  \\\n",
       "0                Federal Reserve Economic Data   \n",
       "1            Link: https://fred.stlouisfed.org   \n",
       "2   Help: https://fred.stlouisfed.org/help-faq   \n",
       "3                   Economic Research Division   \n",
       "4            Federal Reserve Bank of St. Louis   \n",
       "5                                          NaN   \n",
       "6                                       EXUSUK   \n",
       "7                                          NaN   \n",
       "8                           Frequency: Monthly   \n",
       "9                             observation_date   \n",
       "10                         1976-01-01 00:00:00   \n",
       "11                         1976-02-01 00:00:00   \n",
       "12                         1976-03-01 00:00:00   \n",
       "13                         1976-04-01 00:00:00   \n",
       "14                         1976-05-01 00:00:00   \n",
       "\n",
       "                                           Unnamed: 1  \n",
       "0                                                 NaN  \n",
       "1                                                 NaN  \n",
       "2                                                 NaN  \n",
       "3                                                 NaN  \n",
       "4                                                 NaN  \n",
       "5                                                 NaN  \n",
       "6   U.S. / U.K. Foreign Exchange Rate, U.S. Dollar...  \n",
       "7                                                 NaN  \n",
       "8                                                 NaN  \n",
       "9                                              EXUSUK  \n",
       "10                                             2.0286  \n",
       "11                                             2.0262  \n",
       "12                                             1.9428  \n",
       "13                                             1.8463  \n",
       "14                                             1.8079  "
      ]
     },
     "execution_count": 443,
     "metadata": {},
     "output_type": "execute_result"
    }
   ],
   "source": [
    "import pandas as pd\n",
    "ex_df = pd.read_excel('https://fred.stlouisfed.org/graph/fredgraph.xls?bgcolor=%23e1e9f0&chart_type=line&drp=0&fo=open%20sans&graph_bgcolor=%23ffffff&height=450&mode=fred&recession_bars=on&txtcolor=%23444444&ts=12&tts=12&width=1168&nt=0&thu=0&trc=0&show_legend=yes&show_axis_titles=yes&show_tooltip=yes&id=EXUSUK&scale=left&cosd=1976-01-01&coed=2015-11-01&line_color=%234572a7&link_values=false&line_style=solid&mark_type=none&mw=3&lw=2&ost=-99999&oet=99999&mma=0&fml=a&fq=Monthly&fam=avg&fgst=lin&fgsnd=2009-06-01&line_index=1&transformation=lin&vintage_date=2018-11-30&revision_date=2018-11-30&nd=1971-01-01')\n",
    "ex_df.head(15)"
   ]
  },
  {
   "cell_type": "code",
   "execution_count": 444,
   "metadata": {
    "collapsed": false
   },
   "outputs": [
    {
     "data": {
      "text/html": [
       "<div>\n",
       "<style scoped>\n",
       "    .dataframe tbody tr th:only-of-type {\n",
       "        vertical-align: middle;\n",
       "    }\n",
       "\n",
       "    .dataframe tbody tr th {\n",
       "        vertical-align: top;\n",
       "    }\n",
       "\n",
       "    .dataframe thead th {\n",
       "        text-align: right;\n",
       "    }\n",
       "</style>\n",
       "<table border=\"1\" class=\"dataframe\">\n",
       "  <thead>\n",
       "    <tr style=\"text-align: right;\">\n",
       "      <th></th>\n",
       "      <th>Date</th>\n",
       "      <th>EXUSUK</th>\n",
       "    </tr>\n",
       "  </thead>\n",
       "  <tbody>\n",
       "    <tr>\n",
       "      <th>10</th>\n",
       "      <td>1976-01-01</td>\n",
       "      <td>2.0286</td>\n",
       "    </tr>\n",
       "    <tr>\n",
       "      <th>11</th>\n",
       "      <td>1976-02-01</td>\n",
       "      <td>2.0262</td>\n",
       "    </tr>\n",
       "    <tr>\n",
       "      <th>12</th>\n",
       "      <td>1976-03-01</td>\n",
       "      <td>1.9428</td>\n",
       "    </tr>\n",
       "    <tr>\n",
       "      <th>13</th>\n",
       "      <td>1976-04-01</td>\n",
       "      <td>1.8463</td>\n",
       "    </tr>\n",
       "    <tr>\n",
       "      <th>14</th>\n",
       "      <td>1976-05-01</td>\n",
       "      <td>1.8079</td>\n",
       "    </tr>\n",
       "  </tbody>\n",
       "</table>\n",
       "</div>"
      ],
      "text/plain": [
       "         Date  EXUSUK\n",
       "10 1976-01-01  2.0286\n",
       "11 1976-02-01  2.0262\n",
       "12 1976-03-01  1.9428\n",
       "13 1976-04-01  1.8463\n",
       "14 1976-05-01  1.8079"
      ]
     },
     "execution_count": 444,
     "metadata": {},
     "output_type": "execute_result"
    }
   ],
   "source": [
    "#drop unuseful information for regression purpose\n",
    "ex_df.drop(ex_df.index[:10],inplace=True)\n",
    "#Rename columns\n",
    "ex_df = ex_df.rename(columns={'FRED Graph Observations':'Date', 'Unnamed: 1':'EXUSUK'})\n",
    "#Reformat date\n",
    "ex_df['Date'] = pd.to_datetime(ex_df['Date'], format = '%Y-%m-%d')\n",
    "ex_df.head()"
   ]
  },
  {
   "cell_type": "code",
   "execution_count": 445,
   "metadata": {
    "collapsed": false
   },
   "outputs": [
    {
     "data": {
      "text/html": [
       "<div>\n",
       "<style scoped>\n",
       "    .dataframe tbody tr th:only-of-type {\n",
       "        vertical-align: middle;\n",
       "    }\n",
       "\n",
       "    .dataframe tbody tr th {\n",
       "        vertical-align: top;\n",
       "    }\n",
       "\n",
       "    .dataframe thead th {\n",
       "        text-align: right;\n",
       "    }\n",
       "</style>\n",
       "<table border=\"1\" class=\"dataframe\">\n",
       "  <thead>\n",
       "    <tr style=\"text-align: right;\">\n",
       "      <th></th>\n",
       "      <th>Date</th>\n",
       "      <th>EXUSUK</th>\n",
       "      <th>ex</th>\n",
       "    </tr>\n",
       "  </thead>\n",
       "  <tbody>\n",
       "    <tr>\n",
       "      <th>10</th>\n",
       "      <td>1976-01-01</td>\n",
       "      <td>2.0286</td>\n",
       "      <td>0.492951</td>\n",
       "    </tr>\n",
       "    <tr>\n",
       "      <th>11</th>\n",
       "      <td>1976-02-01</td>\n",
       "      <td>2.0262</td>\n",
       "      <td>0.493535</td>\n",
       "    </tr>\n",
       "    <tr>\n",
       "      <th>12</th>\n",
       "      <td>1976-03-01</td>\n",
       "      <td>1.9428</td>\n",
       "      <td>0.514721</td>\n",
       "    </tr>\n",
       "    <tr>\n",
       "      <th>13</th>\n",
       "      <td>1976-04-01</td>\n",
       "      <td>1.8463</td>\n",
       "      <td>0.541624</td>\n",
       "    </tr>\n",
       "    <tr>\n",
       "      <th>14</th>\n",
       "      <td>1976-05-01</td>\n",
       "      <td>1.8079</td>\n",
       "      <td>0.553128</td>\n",
       "    </tr>\n",
       "  </tbody>\n",
       "</table>\n",
       "</div>"
      ],
      "text/plain": [
       "         Date  EXUSUK        ex\n",
       "10 1976-01-01  2.0286  0.492951\n",
       "11 1976-02-01  2.0262  0.493535\n",
       "12 1976-03-01  1.9428  0.514721\n",
       "13 1976-04-01  1.8463  0.541624\n",
       "14 1976-05-01  1.8079  0.553128"
      ]
     },
     "execution_count": 445,
     "metadata": {},
     "output_type": "execute_result"
    }
   ],
   "source": [
    "#Converting exchange rate data, using UK as domestic country\n",
    "#so exchange rates are defined as domestic prices per unit of the dollar\n",
    "#therefore, a rise in exchange rate indicates a depreciation of the British pound.\n",
    "ex_df['ex'] = 1/ex_df.EXUSUK\n",
    "ex_df.head()"
   ]
  },
  {
   "cell_type": "code",
   "execution_count": 446,
   "metadata": {
    "collapsed": false
   },
   "outputs": [
    {
     "data": {
      "text/html": [
       "<div>\n",
       "<style scoped>\n",
       "    .dataframe tbody tr th:only-of-type {\n",
       "        vertical-align: middle;\n",
       "    }\n",
       "\n",
       "    .dataframe tbody tr th {\n",
       "        vertical-align: top;\n",
       "    }\n",
       "\n",
       "    .dataframe thead th {\n",
       "        text-align: right;\n",
       "    }\n",
       "</style>\n",
       "<table border=\"1\" class=\"dataframe\">\n",
       "  <thead>\n",
       "    <tr style=\"text-align: right;\">\n",
       "      <th></th>\n",
       "      <th>Date</th>\n",
       "      <th>EXUSUK</th>\n",
       "      <th>ex</th>\n",
       "      <th>log_ex</th>\n",
       "      <th>laglog_ex</th>\n",
       "      <th>change_logex</th>\n",
       "    </tr>\n",
       "  </thead>\n",
       "  <tbody>\n",
       "    <tr>\n",
       "      <th>10</th>\n",
       "      <td>1976-01-01</td>\n",
       "      <td>2.0286</td>\n",
       "      <td>0.492951</td>\n",
       "      <td>-0.707346</td>\n",
       "      <td>NaN</td>\n",
       "      <td>NaN</td>\n",
       "    </tr>\n",
       "    <tr>\n",
       "      <th>11</th>\n",
       "      <td>1976-02-01</td>\n",
       "      <td>2.0262</td>\n",
       "      <td>0.493535</td>\n",
       "      <td>-0.706162</td>\n",
       "      <td>-0.707346</td>\n",
       "      <td>0.001184</td>\n",
       "    </tr>\n",
       "    <tr>\n",
       "      <th>12</th>\n",
       "      <td>1976-03-01</td>\n",
       "      <td>1.9428</td>\n",
       "      <td>0.514721</td>\n",
       "      <td>-0.664130</td>\n",
       "      <td>-0.706162</td>\n",
       "      <td>0.042032</td>\n",
       "    </tr>\n",
       "    <tr>\n",
       "      <th>13</th>\n",
       "      <td>1976-04-01</td>\n",
       "      <td>1.8463</td>\n",
       "      <td>0.541624</td>\n",
       "      <td>-0.613184</td>\n",
       "      <td>-0.664130</td>\n",
       "      <td>0.050947</td>\n",
       "    </tr>\n",
       "    <tr>\n",
       "      <th>14</th>\n",
       "      <td>1976-05-01</td>\n",
       "      <td>1.8079</td>\n",
       "      <td>0.553128</td>\n",
       "      <td>-0.592166</td>\n",
       "      <td>-0.613184</td>\n",
       "      <td>0.021018</td>\n",
       "    </tr>\n",
       "  </tbody>\n",
       "</table>\n",
       "</div>"
      ],
      "text/plain": [
       "         Date  EXUSUK        ex    log_ex  laglog_ex  change_logex\n",
       "10 1976-01-01  2.0286  0.492951 -0.707346        NaN           NaN\n",
       "11 1976-02-01  2.0262  0.493535 -0.706162  -0.707346      0.001184\n",
       "12 1976-03-01  1.9428  0.514721 -0.664130  -0.706162      0.042032\n",
       "13 1976-04-01  1.8463  0.541624 -0.613184  -0.664130      0.050947\n",
       "14 1976-05-01  1.8079  0.553128 -0.592166  -0.613184      0.021018"
      ]
     },
     "execution_count": 446,
     "metadata": {},
     "output_type": "execute_result"
    }
   ],
   "source": [
    "import numpy as np\n",
    "ex_df['log_ex'] = np.log(ex_df['ex'].astype('float'))\n",
    "#Create lagged logorithm exchange rates\n",
    "ex_df['laglog_ex'] = ex_df['log_ex'].shift(1)\n",
    "#Create a new column that represents changes in exchange rates from t = 0 to t = 1.\n",
    "ex_df['change_logex'] = ex_df['log_ex'].astype('float') - ex_df['laglog_ex'].astype('float')\n",
    "ex_df.head()"
   ]
  },
  {
   "cell_type": "code",
   "execution_count": 447,
   "metadata": {
    "collapsed": false
   },
   "outputs": [
    {
     "name": "stdout",
     "output_type": "stream",
     "text": [
      "<class 'pandas.core.frame.DataFrame'>\n",
      "Int64Index: 479 entries, 10 to 488\n",
      "Data columns (total 6 columns):\n",
      "Date            479 non-null datetime64[ns]\n",
      "EXUSUK          479 non-null object\n",
      "ex              479 non-null object\n",
      "log_ex          479 non-null float64\n",
      "laglog_ex       478 non-null float64\n",
      "change_logex    478 non-null float64\n",
      "dtypes: datetime64[ns](1), float64(3), object(2)\n",
      "memory usage: 26.2+ KB\n"
     ]
    }
   ],
   "source": [
    "ex_df.info()"
   ]
  },
  {
   "cell_type": "markdown",
   "metadata": {},
   "source": [
    "**Note:** Variables laglog_ex and change_logex have missing values. I will deal with it later."
   ]
  },
  {
   "cell_type": "markdown",
   "metadata": {},
   "source": [
    "# 2. Load Libraries"
   ]
  },
  {
   "cell_type": "code",
   "execution_count": 448,
   "metadata": {
    "collapsed": true
   },
   "outputs": [],
   "source": [
    "import matplotlib.pylab as plt\n",
    "%matplotlib inline\n",
    "from matplotlib.pylab import rcParams\n",
    "rcParams['figure.figsize'] = 15, 6\n",
    "import requests, pandas as pd, numpy as np\n",
    "from pandas import DataFrame\n",
    "import time\n",
    "from datetime import date\n",
    "import statsmodels\n",
    "from statsmodels.tsa.stattools import adfuller, acf, pacf\n",
    "from statsmodels.tsa.arima_model import ARIMA\n",
    "from statsmodels.tsa.seasonal import seasonal_decompose\n",
    "from sklearn.metrics import mean_squared_error"
   ]
  },
  {
   "cell_type": "markdown",
   "metadata": {},
   "source": [
    "# 3. Visualize the time series data"
   ]
  },
  {
   "cell_type": "markdown",
   "metadata": {},
   "source": [
    "### 3.1 Exchange Rates Plots"
   ]
  },
  {
   "cell_type": "markdown",
   "metadata": {},
   "source": [
    "The first plot below shows the non-stationarity of GBP per dollar exchange rates from Jan 1976 to Nov 2015, and the second plot shows the monthly log exchange rate changes which indicate clustered volatility."
   ]
  },
  {
   "cell_type": "code",
   "execution_count": 449,
   "metadata": {
    "collapsed": false
   },
   "outputs": [
    {
     "data": {
      "image/png": "[encoded data removed]",
      "text/plain": [
       "<Figure size 432x288 with 1 Axes>"
      ]
     },
     "metadata": {
      "needs_background": "light"
     },
     "output_type": "display_data"
    }
   ],
   "source": [
    "%matplotlib inline\n",
    "import matplotlib\n",
    "import matplotlib.pyplot as plt\n",
    "\n",
    "t = ex_df.Date\n",
    "\n",
    "plt.plot(t,ex_df.ex) \n",
    "plt.xlabel('Sample Period')           # X-axis label\n",
    "plt.ylabel('Pound/Dollar Exhcange rate')              # Y-axis label\n",
    "plt.title('Pound/Dollar Exchange Rate')\n",
    "plt.show()"
   ]
  },
  {
   "cell_type": "code",
   "execution_count": 450,
   "metadata": {
    "collapsed": false
   },
   "outputs": [
    {
     "data": {
      "image/png": "[encoded data removed]",
      "text/plain": [
       "<Figure size 576x360 with 1 Axes>"
      ]
     },
     "metadata": {
      "needs_background": "light"
     },
     "output_type": "display_data"
    }
   ],
   "source": [
    "%matplotlib inline\n",
    "plt.figure(figsize=(8,5))\n",
    "plt.plot(t,ex_df['change_logex']) \n",
    "plt.xlabel('Sample Period')           # X-axis label\n",
    "plt.ylabel('Change in Exhcange rate')              # Y-axis label\n",
    "plt.title('Change in Pound/Dollar Exchange Rate')\n",
    "plt.show()"
   ]
  },
  {
   "cell_type": "markdown",
   "metadata": {},
   "source": [
    "### 3.2 Change in Exchange Rate Histogram"
   ]
  },
  {
   "cell_type": "markdown",
   "metadata": {},
   "source": [
    "The below histogram indicates that the log exchange rate changes follow a leptokurtic distribution."
   ]
  },
  {
   "cell_type": "code",
   "execution_count": 451,
   "metadata": {
    "collapsed": false
   },
   "outputs": [
    {
     "data": {
      "text/plain": [
       "Text(0.5, 1.0, 'Change in Exchange Rate Histogram')"
      ]
     },
     "execution_count": 451,
     "metadata": {},
     "output_type": "execute_result"
    },
    {
     "data": {
      "image/png": "[encoded data removed]",
      "text/plain": [
       "<Figure size 432x288 with 1 Axes>"
      ]
     },
     "metadata": {
      "needs_background": "light"
     },
     "output_type": "display_data"
    }
   ],
   "source": [
    "import seaborn as sns\n",
    "\n",
    "sns.distplot(ex_df['change_logex'].dropna().values)\n",
    "ax = plt.gca()\n",
    "ax.set_title(\"Change in Exchange Rate Histogram\")"
   ]
  },
  {
   "cell_type": "markdown",
   "metadata": {},
   "source": [
    "# 4. Check for Stationarity"
   ]
  },
  {
   "cell_type": "markdown",
   "metadata": {},
   "source": [
    "In a stationary time series, the parameters of variables must be constant over time and its autocovariance must be independent with time. But we know that the regression in a time series is not time indepedent. Therefore, to apply regression techniques on these variables, we need the data to be stationary.\n",
    "\n",
    "\n",
    "This project uses the Dickey-Fuller test to check stationarity, the null hypothesis is that the time series is non-stationary. The alternative hypothesis is that the time series is stationary. If the test statistic is less than the critical values, the null hypothesis will be rejected.\n",
    "\n",
    "**Dickey-Fuller test on the time series:**"
   ]
  },
  {
   "cell_type": "code",
   "execution_count": 452,
   "metadata": {
    "collapsed": true
   },
   "outputs": [],
   "source": [
    "def check_stationarity(timeseries):\n",
    "#Perform Dickey-Fuller test:\n",
    "    print ('Results of Dickey-Fuller Test:')\n",
    "    dickey_fuller_test = adfuller(timeseries, autolag='AIC')\n",
    "    dfresults = pd.Series(dickey_fuller_test[0:4], index=['Test Statistic','p-value','#Lags Used','Number of Observations Used'])\n",
    "    for key,value in dickey_fuller_test[4].items():\n",
    "        dfresults['Critical Value (%s)'%key] = value\n",
    "    print (dfresults)"
   ]
  },
  {
   "cell_type": "code",
   "execution_count": 453,
   "metadata": {
    "collapsed": false
   },
   "outputs": [
    {
     "name": "stdout",
     "output_type": "stream",
     "text": [
      "Results of Dickey-Fuller Test:\n",
      "Test Statistic                  -3.141865\n",
      "p-value                          0.023606\n",
      "#Lags Used                       3.000000\n",
      "Number of Observations Used    475.000000\n",
      "Critical Value (1%)             -3.444192\n",
      "Critical Value (5%)             -2.867644\n",
      "Critical Value (10%)            -2.570021\n",
      "dtype: float64\n"
     ]
    }
   ],
   "source": [
    "check_stationarity(ex_df.ex)"
   ]
  },
  {
   "cell_type": "markdown",
   "metadata": {},
   "source": [
    "**DF Results:** Because the test statistic (-3.14) is less than the 5% critical value and the p-value (0.02) is smaller than 0.05, the moving average is constant over time and we can reject the null hypothesis of the Dickey-Fuller test. This shows that the exchange rate time series is stationary."
   ]
  },
  {
   "cell_type": "markdown",
   "metadata": {},
   "source": [
    "# 5. Purchasing Power Parity (PPP) Model\n",
    "Purchasing Power Parity (PPP) fundamentals also are popularly used to forecast exchange rate. PPP suggests that the real prices of a basket of goods between two countries are the same, i.e. when converting domestic currency to foreign currency at the PPP rate, the same baskets of goods can be bought, which indicates the same price level. Thus, under PPP, we can use the\n",
    "following equation to forecast exchange rate:\n",
    "\n",
    "\\begin{equation*}\n",
    "\\mathbf{e}_t - \\mathbf{e}_{t-1}= a + \\beta (\\mathbf{CPIUK}_{t-1}-\\mathbf{CPIUS}_{t-1}) + \\delta_{t}\n",
    "\\end{equation*}\n"
   ]
  },
  {
   "cell_type": "markdown",
   "metadata": {},
   "source": [
    "# 5.1 Get Data for PPP Model [Consumer Price Index (CPI) of UK and US]"
   ]
  },
  {
   "cell_type": "markdown",
   "metadata": {},
   "source": [
    "Data Description:\n",
    "Monthly variables. The data period is from January 1976 to November 2015 with a sum of 479 observations. Consumer Price Index (CPI) is used to represent price levels."
   ]
  },
  {
   "cell_type": "code",
   "execution_count": 454,
   "metadata": {
    "collapsed": false
   },
   "outputs": [
    {
     "data": {
      "text/html": [
       "<div>\n",
       "<style scoped>\n",
       "    .dataframe tbody tr th:only-of-type {\n",
       "        vertical-align: middle;\n",
       "    }\n",
       "\n",
       "    .dataframe tbody tr th {\n",
       "        vertical-align: top;\n",
       "    }\n",
       "\n",
       "    .dataframe thead th {\n",
       "        text-align: right;\n",
       "    }\n",
       "</style>\n",
       "<table border=\"1\" class=\"dataframe\">\n",
       "  <thead>\n",
       "    <tr style=\"text-align: right;\">\n",
       "      <th></th>\n",
       "      <th>FRED Graph Observations</th>\n",
       "      <th>Unnamed: 1</th>\n",
       "    </tr>\n",
       "  </thead>\n",
       "  <tbody>\n",
       "    <tr>\n",
       "      <th>0</th>\n",
       "      <td>Federal Reserve Economic Data</td>\n",
       "      <td>NaN</td>\n",
       "    </tr>\n",
       "    <tr>\n",
       "      <th>1</th>\n",
       "      <td>Link: https://fred.stlouisfed.org</td>\n",
       "      <td>NaN</td>\n",
       "    </tr>\n",
       "    <tr>\n",
       "      <th>2</th>\n",
       "      <td>Help: https://fred.stlouisfed.org/help-faq</td>\n",
       "      <td>NaN</td>\n",
       "    </tr>\n",
       "    <tr>\n",
       "      <th>3</th>\n",
       "      <td>Economic Research Division</td>\n",
       "      <td>NaN</td>\n",
       "    </tr>\n",
       "    <tr>\n",
       "      <th>4</th>\n",
       "      <td>Federal Reserve Bank of St. Louis</td>\n",
       "      <td>NaN</td>\n",
       "    </tr>\n",
       "    <tr>\n",
       "      <th>5</th>\n",
       "      <td>NaN</td>\n",
       "      <td>NaN</td>\n",
       "    </tr>\n",
       "    <tr>\n",
       "      <th>6</th>\n",
       "      <td>GBRCPIALLMINMEI</td>\n",
       "      <td>Consumer Price Index of All Items in the Unite...</td>\n",
       "    </tr>\n",
       "    <tr>\n",
       "      <th>7</th>\n",
       "      <td>NaN</td>\n",
       "      <td>NaN</td>\n",
       "    </tr>\n",
       "    <tr>\n",
       "      <th>8</th>\n",
       "      <td>Frequency: Monthly</td>\n",
       "      <td>NaN</td>\n",
       "    </tr>\n",
       "    <tr>\n",
       "      <th>9</th>\n",
       "      <td>observation_date</td>\n",
       "      <td>GBRCPIALLMINMEI</td>\n",
       "    </tr>\n",
       "    <tr>\n",
       "      <th>10</th>\n",
       "      <td>1976-01-01 00:00:00</td>\n",
       "      <td>17.8615</td>\n",
       "    </tr>\n",
       "    <tr>\n",
       "      <th>11</th>\n",
       "      <td>1976-02-01 00:00:00</td>\n",
       "      <td>18.091</td>\n",
       "    </tr>\n",
       "    <tr>\n",
       "      <th>12</th>\n",
       "      <td>1976-03-01 00:00:00</td>\n",
       "      <td>18.1876</td>\n",
       "    </tr>\n",
       "    <tr>\n",
       "      <th>13</th>\n",
       "      <td>1976-04-01 00:00:00</td>\n",
       "      <td>18.5378</td>\n",
       "    </tr>\n",
       "    <tr>\n",
       "      <th>14</th>\n",
       "      <td>1976-05-01 00:00:00</td>\n",
       "      <td>18.7431</td>\n",
       "    </tr>\n",
       "  </tbody>\n",
       "</table>\n",
       "</div>"
      ],
      "text/plain": [
       "                       FRED Graph Observations  \\\n",
       "0                Federal Reserve Economic Data   \n",
       "1            Link: https://fred.stlouisfed.org   \n",
       "2   Help: https://fred.stlouisfed.org/help-faq   \n",
       "3                   Economic Research Division   \n",
       "4            Federal Reserve Bank of St. Louis   \n",
       "5                                          NaN   \n",
       "6                              GBRCPIALLMINMEI   \n",
       "7                                          NaN   \n",
       "8                           Frequency: Monthly   \n",
       "9                             observation_date   \n",
       "10                         1976-01-01 00:00:00   \n",
       "11                         1976-02-01 00:00:00   \n",
       "12                         1976-03-01 00:00:00   \n",
       "13                         1976-04-01 00:00:00   \n",
       "14                         1976-05-01 00:00:00   \n",
       "\n",
       "                                           Unnamed: 1  \n",
       "0                                                 NaN  \n",
       "1                                                 NaN  \n",
       "2                                                 NaN  \n",
       "3                                                 NaN  \n",
       "4                                                 NaN  \n",
       "5                                                 NaN  \n",
       "6   Consumer Price Index of All Items in the Unite...  \n",
       "7                                                 NaN  \n",
       "8                                                 NaN  \n",
       "9                                     GBRCPIALLMINMEI  \n",
       "10                                            17.8615  \n",
       "11                                             18.091  \n",
       "12                                            18.1876  \n",
       "13                                            18.5378  \n",
       "14                                            18.7431  "
      ]
     },
     "execution_count": 454,
     "metadata": {},
     "output_type": "execute_result"
    }
   ],
   "source": [
    "CPIUK_df = pd.read_excel('https://fred.stlouisfed.org/graph/fredgraph.xls?bgcolor=%23e1e9f0&chart_type=line&drp=0&fo=open%20sans&graph_bgcolor=%23ffffff&height=450&mode=fred&recession_bars=off&txtcolor=%23444444&ts=12&tts=12&width=1168&nt=0&thu=0&trc=0&show_legend=yes&show_axis_titles=yes&show_tooltip=yes&id=GBRCPIALLMINMEI&scale=left&cosd=1976-01-01&coed=2015-11-01&line_color=%234572a7&link_values=false&line_style=solid&mark_type=none&mw=3&lw=2&ost=-99999&oet=99999&mma=0&fml=a&fq=Monthly&fam=avg&fgst=lin&fgsnd=2009-06-01&line_index=1&transformation=lin&vintage_date=2018-12-03&revision_date=2018-12-03&nd=1960-01-01')\n",
    "CPIUK_df.head(15)"
   ]
  },
  {
   "cell_type": "code",
   "execution_count": 455,
   "metadata": {
    "collapsed": false
   },
   "outputs": [
    {
     "data": {
      "text/html": [
       "<div>\n",
       "<style scoped>\n",
       "    .dataframe tbody tr th:only-of-type {\n",
       "        vertical-align: middle;\n",
       "    }\n",
       "\n",
       "    .dataframe tbody tr th {\n",
       "        vertical-align: top;\n",
       "    }\n",
       "\n",
       "    .dataframe thead th {\n",
       "        text-align: right;\n",
       "    }\n",
       "</style>\n",
       "<table border=\"1\" class=\"dataframe\">\n",
       "  <thead>\n",
       "    <tr style=\"text-align: right;\">\n",
       "      <th></th>\n",
       "      <th>Date</th>\n",
       "      <th>CPIUK</th>\n",
       "    </tr>\n",
       "  </thead>\n",
       "  <tbody>\n",
       "    <tr>\n",
       "      <th>10</th>\n",
       "      <td>1976-01-01</td>\n",
       "      <td>17.8615</td>\n",
       "    </tr>\n",
       "    <tr>\n",
       "      <th>11</th>\n",
       "      <td>1976-02-01</td>\n",
       "      <td>18.091</td>\n",
       "    </tr>\n",
       "    <tr>\n",
       "      <th>12</th>\n",
       "      <td>1976-03-01</td>\n",
       "      <td>18.1876</td>\n",
       "    </tr>\n",
       "    <tr>\n",
       "      <th>13</th>\n",
       "      <td>1976-04-01</td>\n",
       "      <td>18.5378</td>\n",
       "    </tr>\n",
       "    <tr>\n",
       "      <th>14</th>\n",
       "      <td>1976-05-01</td>\n",
       "      <td>18.7431</td>\n",
       "    </tr>\n",
       "  </tbody>\n",
       "</table>\n",
       "</div>"
      ],
      "text/plain": [
       "         Date    CPIUK\n",
       "10 1976-01-01  17.8615\n",
       "11 1976-02-01   18.091\n",
       "12 1976-03-01  18.1876\n",
       "13 1976-04-01  18.5378\n",
       "14 1976-05-01  18.7431"
      ]
     },
     "execution_count": 455,
     "metadata": {},
     "output_type": "execute_result"
    }
   ],
   "source": [
    "#drop unuseful information for regression purpose\n",
    "CPIUK_df.drop(CPIUK_df.index[:10],inplace=True)\n",
    "#Rename columns\n",
    "CPIUK_df = CPIUK_df.rename(columns={'FRED Graph Observations':'Date', 'Unnamed: 1':'CPIUK'})\n",
    "#Reformat date\n",
    "CPIUK_df['Date'] = pd.to_datetime(CPIUK_df['Date'], format = '%Y-%m-%d')\n",
    "CPIUK_df.head()"
   ]
  },
  {
   "cell_type": "code",
   "execution_count": 456,
   "metadata": {
    "collapsed": false
   },
   "outputs": [
    {
     "name": "stdout",
     "output_type": "stream",
     "text": [
      "<class 'pandas.core.frame.DataFrame'>\n",
      "Int64Index: 479 entries, 10 to 488\n",
      "Data columns (total 2 columns):\n",
      "Date     479 non-null datetime64[ns]\n",
      "CPIUK    479 non-null object\n",
      "dtypes: datetime64[ns](1), object(1)\n",
      "memory usage: 11.2+ KB\n"
     ]
    }
   ],
   "source": [
    "CPIUK_df.info()"
   ]
  },
  {
   "cell_type": "markdown",
   "metadata": {},
   "source": [
    "**Note:** No missing values."
   ]
  },
  {
   "cell_type": "code",
   "execution_count": 457,
   "metadata": {
    "collapsed": false
   },
   "outputs": [
    {
     "data": {
      "text/html": [
       "<div>\n",
       "<style scoped>\n",
       "    .dataframe tbody tr th:only-of-type {\n",
       "        vertical-align: middle;\n",
       "    }\n",
       "\n",
       "    .dataframe tbody tr th {\n",
       "        vertical-align: top;\n",
       "    }\n",
       "\n",
       "    .dataframe thead th {\n",
       "        text-align: right;\n",
       "    }\n",
       "</style>\n",
       "<table border=\"1\" class=\"dataframe\">\n",
       "  <thead>\n",
       "    <tr style=\"text-align: right;\">\n",
       "      <th></th>\n",
       "      <th>FRED Graph Observations</th>\n",
       "      <th>Unnamed: 1</th>\n",
       "    </tr>\n",
       "  </thead>\n",
       "  <tbody>\n",
       "    <tr>\n",
       "      <th>0</th>\n",
       "      <td>Federal Reserve Economic Data</td>\n",
       "      <td>NaN</td>\n",
       "    </tr>\n",
       "    <tr>\n",
       "      <th>1</th>\n",
       "      <td>Link: https://fred.stlouisfed.org</td>\n",
       "      <td>NaN</td>\n",
       "    </tr>\n",
       "    <tr>\n",
       "      <th>2</th>\n",
       "      <td>Help: https://fred.stlouisfed.org/help-faq</td>\n",
       "      <td>NaN</td>\n",
       "    </tr>\n",
       "    <tr>\n",
       "      <th>3</th>\n",
       "      <td>Economic Research Division</td>\n",
       "      <td>NaN</td>\n",
       "    </tr>\n",
       "    <tr>\n",
       "      <th>4</th>\n",
       "      <td>Federal Reserve Bank of St. Louis</td>\n",
       "      <td>NaN</td>\n",
       "    </tr>\n",
       "    <tr>\n",
       "      <th>5</th>\n",
       "      <td>NaN</td>\n",
       "      <td>NaN</td>\n",
       "    </tr>\n",
       "    <tr>\n",
       "      <th>6</th>\n",
       "      <td>CPALTT01USM661S</td>\n",
       "      <td>Consumer Price Index: Total All Items for the ...</td>\n",
       "    </tr>\n",
       "    <tr>\n",
       "      <th>7</th>\n",
       "      <td>NaN</td>\n",
       "      <td>NaN</td>\n",
       "    </tr>\n",
       "    <tr>\n",
       "      <th>8</th>\n",
       "      <td>Frequency: Monthly</td>\n",
       "      <td>NaN</td>\n",
       "    </tr>\n",
       "    <tr>\n",
       "      <th>9</th>\n",
       "      <td>observation_date</td>\n",
       "      <td>CPALTT01USM661S</td>\n",
       "    </tr>\n",
       "    <tr>\n",
       "      <th>10</th>\n",
       "      <td>1976-01-01 00:00:00</td>\n",
       "      <td>23.5426</td>\n",
       "    </tr>\n",
       "    <tr>\n",
       "      <th>11</th>\n",
       "      <td>1976-02-01 00:00:00</td>\n",
       "      <td>23.5848</td>\n",
       "    </tr>\n",
       "    <tr>\n",
       "      <th>12</th>\n",
       "      <td>1976-03-01 00:00:00</td>\n",
       "      <td>23.627</td>\n",
       "    </tr>\n",
       "    <tr>\n",
       "      <th>13</th>\n",
       "      <td>1976-04-01 00:00:00</td>\n",
       "      <td>23.6692</td>\n",
       "    </tr>\n",
       "    <tr>\n",
       "      <th>14</th>\n",
       "      <td>1976-05-01 00:00:00</td>\n",
       "      <td>23.7958</td>\n",
       "    </tr>\n",
       "  </tbody>\n",
       "</table>\n",
       "</div>"
      ],
      "text/plain": [
       "                       FRED Graph Observations  \\\n",
       "0                Federal Reserve Economic Data   \n",
       "1            Link: https://fred.stlouisfed.org   \n",
       "2   Help: https://fred.stlouisfed.org/help-faq   \n",
       "3                   Economic Research Division   \n",
       "4            Federal Reserve Bank of St. Louis   \n",
       "5                                          NaN   \n",
       "6                              CPALTT01USM661S   \n",
       "7                                          NaN   \n",
       "8                           Frequency: Monthly   \n",
       "9                             observation_date   \n",
       "10                         1976-01-01 00:00:00   \n",
       "11                         1976-02-01 00:00:00   \n",
       "12                         1976-03-01 00:00:00   \n",
       "13                         1976-04-01 00:00:00   \n",
       "14                         1976-05-01 00:00:00   \n",
       "\n",
       "                                           Unnamed: 1  \n",
       "0                                                 NaN  \n",
       "1                                                 NaN  \n",
       "2                                                 NaN  \n",
       "3                                                 NaN  \n",
       "4                                                 NaN  \n",
       "5                                                 NaN  \n",
       "6   Consumer Price Index: Total All Items for the ...  \n",
       "7                                                 NaN  \n",
       "8                                                 NaN  \n",
       "9                                     CPALTT01USM661S  \n",
       "10                                            23.5426  \n",
       "11                                            23.5848  \n",
       "12                                             23.627  \n",
       "13                                            23.6692  \n",
       "14                                            23.7958  "
      ]
     },
     "execution_count": 457,
     "metadata": {},
     "output_type": "execute_result"
    }
   ],
   "source": [
    "CPIUS_df = pd.read_excel('https://fred.stlouisfed.org/graph/fredgraph.xls?bgcolor=%23e1e9f0&chart_type=line&drp=0&fo=open%20sans&graph_bgcolor=%23ffffff&height=450&mode=fred&recession_bars=on&txtcolor=%23444444&ts=12&tts=12&width=1168&nt=0&thu=0&trc=0&show_legend=yes&show_axis_titles=yes&show_tooltip=yes&id=CPALTT01USM661S&scale=left&cosd=1976-01-01&coed=2015-11-01&line_color=%234572a7&link_values=false&line_style=solid&mark_type=none&mw=3&lw=2&ost=-99999&oet=99999&mma=0&fml=a&fq=Monthly&fam=avg&fgst=lin&fgsnd=2009-06-01&line_index=1&transformation=lin&vintage_date=2018-12-03&revision_date=2018-12-03&nd=1960-01-01')\n",
    "CPIUS_df.head(15)"
   ]
  },
  {
   "cell_type": "code",
   "execution_count": 458,
   "metadata": {
    "collapsed": false
   },
   "outputs": [
    {
     "data": {
      "text/html": [
       "<div>\n",
       "<style scoped>\n",
       "    .dataframe tbody tr th:only-of-type {\n",
       "        vertical-align: middle;\n",
       "    }\n",
       "\n",
       "    .dataframe tbody tr th {\n",
       "        vertical-align: top;\n",
       "    }\n",
       "\n",
       "    .dataframe thead th {\n",
       "        text-align: right;\n",
       "    }\n",
       "</style>\n",
       "<table border=\"1\" class=\"dataframe\">\n",
       "  <thead>\n",
       "    <tr style=\"text-align: right;\">\n",
       "      <th></th>\n",
       "      <th>Date</th>\n",
       "      <th>CPIUS</th>\n",
       "    </tr>\n",
       "  </thead>\n",
       "  <tbody>\n",
       "    <tr>\n",
       "      <th>10</th>\n",
       "      <td>1976-01-01</td>\n",
       "      <td>23.5426</td>\n",
       "    </tr>\n",
       "    <tr>\n",
       "      <th>11</th>\n",
       "      <td>1976-02-01</td>\n",
       "      <td>23.5848</td>\n",
       "    </tr>\n",
       "    <tr>\n",
       "      <th>12</th>\n",
       "      <td>1976-03-01</td>\n",
       "      <td>23.627</td>\n",
       "    </tr>\n",
       "    <tr>\n",
       "      <th>13</th>\n",
       "      <td>1976-04-01</td>\n",
       "      <td>23.6692</td>\n",
       "    </tr>\n",
       "    <tr>\n",
       "      <th>14</th>\n",
       "      <td>1976-05-01</td>\n",
       "      <td>23.7958</td>\n",
       "    </tr>\n",
       "  </tbody>\n",
       "</table>\n",
       "</div>"
      ],
      "text/plain": [
       "         Date    CPIUS\n",
       "10 1976-01-01  23.5426\n",
       "11 1976-02-01  23.5848\n",
       "12 1976-03-01   23.627\n",
       "13 1976-04-01  23.6692\n",
       "14 1976-05-01  23.7958"
      ]
     },
     "execution_count": 458,
     "metadata": {},
     "output_type": "execute_result"
    }
   ],
   "source": [
    "#drop unuseful information for regression purpose\n",
    "CPIUS_df.drop(CPIUS_df.index[:10],inplace=True)\n",
    "#Rename columns\n",
    "CPIUS_df = CPIUS_df.rename(columns={'FRED Graph Observations':'Date', 'Unnamed: 1':'CPIUS'})\n",
    "#Reformat date\n",
    "CPIUS_df['Date'] = pd.to_datetime(CPIUS_df['Date'], format = '%Y-%m-%d')\n",
    "CPIUS_df.head()"
   ]
  },
  {
   "cell_type": "code",
   "execution_count": 459,
   "metadata": {
    "collapsed": false
   },
   "outputs": [
    {
     "name": "stdout",
     "output_type": "stream",
     "text": [
      "<class 'pandas.core.frame.DataFrame'>\n",
      "Int64Index: 479 entries, 10 to 488\n",
      "Data columns (total 2 columns):\n",
      "Date     479 non-null datetime64[ns]\n",
      "CPIUS    479 non-null object\n",
      "dtypes: datetime64[ns](1), object(1)\n",
      "memory usage: 11.2+ KB\n"
     ]
    }
   ],
   "source": [
    "CPIUS_df.info()"
   ]
  },
  {
   "cell_type": "markdown",
   "metadata": {},
   "source": [
    "**Note:** No missing values."
   ]
  },
  {
   "cell_type": "code",
   "execution_count": 460,
   "metadata": {
    "collapsed": false
   },
   "outputs": [
    {
     "data": {
      "text/html": [
       "<div>\n",
       "<style scoped>\n",
       "    .dataframe tbody tr th:only-of-type {\n",
       "        vertical-align: middle;\n",
       "    }\n",
       "\n",
       "    .dataframe tbody tr th {\n",
       "        vertical-align: top;\n",
       "    }\n",
       "\n",
       "    .dataframe thead th {\n",
       "        text-align: right;\n",
       "    }\n",
       "</style>\n",
       "<table border=\"1\" class=\"dataframe\">\n",
       "  <thead>\n",
       "    <tr style=\"text-align: right;\">\n",
       "      <th></th>\n",
       "      <th>Date</th>\n",
       "      <th>EXUSUK</th>\n",
       "      <th>ex</th>\n",
       "      <th>log_ex</th>\n",
       "      <th>laglog_ex</th>\n",
       "      <th>change_logex</th>\n",
       "      <th>CPIUK</th>\n",
       "      <th>CPIUS</th>\n",
       "    </tr>\n",
       "  </thead>\n",
       "  <tbody>\n",
       "    <tr>\n",
       "      <th>0</th>\n",
       "      <td>1976-01-01</td>\n",
       "      <td>2.0286</td>\n",
       "      <td>0.492951</td>\n",
       "      <td>-0.707346</td>\n",
       "      <td>NaN</td>\n",
       "      <td>NaN</td>\n",
       "      <td>17.8615</td>\n",
       "      <td>23.5426</td>\n",
       "    </tr>\n",
       "    <tr>\n",
       "      <th>1</th>\n",
       "      <td>1976-02-01</td>\n",
       "      <td>2.0262</td>\n",
       "      <td>0.493535</td>\n",
       "      <td>-0.706162</td>\n",
       "      <td>-0.707346</td>\n",
       "      <td>0.001184</td>\n",
       "      <td>18.091</td>\n",
       "      <td>23.5848</td>\n",
       "    </tr>\n",
       "    <tr>\n",
       "      <th>2</th>\n",
       "      <td>1976-03-01</td>\n",
       "      <td>1.9428</td>\n",
       "      <td>0.514721</td>\n",
       "      <td>-0.664130</td>\n",
       "      <td>-0.706162</td>\n",
       "      <td>0.042032</td>\n",
       "      <td>18.1876</td>\n",
       "      <td>23.627</td>\n",
       "    </tr>\n",
       "    <tr>\n",
       "      <th>3</th>\n",
       "      <td>1976-04-01</td>\n",
       "      <td>1.8463</td>\n",
       "      <td>0.541624</td>\n",
       "      <td>-0.613184</td>\n",
       "      <td>-0.664130</td>\n",
       "      <td>0.050947</td>\n",
       "      <td>18.5378</td>\n",
       "      <td>23.6692</td>\n",
       "    </tr>\n",
       "    <tr>\n",
       "      <th>4</th>\n",
       "      <td>1976-05-01</td>\n",
       "      <td>1.8079</td>\n",
       "      <td>0.553128</td>\n",
       "      <td>-0.592166</td>\n",
       "      <td>-0.613184</td>\n",
       "      <td>0.021018</td>\n",
       "      <td>18.7431</td>\n",
       "      <td>23.7958</td>\n",
       "    </tr>\n",
       "  </tbody>\n",
       "</table>\n",
       "</div>"
      ],
      "text/plain": [
       "        Date  EXUSUK        ex    log_ex  laglog_ex  change_logex    CPIUK  \\\n",
       "0 1976-01-01  2.0286  0.492951 -0.707346        NaN           NaN  17.8615   \n",
       "1 1976-02-01  2.0262  0.493535 -0.706162  -0.707346      0.001184   18.091   \n",
       "2 1976-03-01  1.9428  0.514721 -0.664130  -0.706162      0.042032  18.1876   \n",
       "3 1976-04-01  1.8463  0.541624 -0.613184  -0.664130      0.050947  18.5378   \n",
       "4 1976-05-01  1.8079  0.553128 -0.592166  -0.613184      0.021018  18.7431   \n",
       "\n",
       "     CPIUS  \n",
       "0  23.5426  \n",
       "1  23.5848  \n",
       "2   23.627  \n",
       "3  23.6692  \n",
       "4  23.7958  "
      ]
     },
     "execution_count": 460,
     "metadata": {},
     "output_type": "execute_result"
    }
   ],
   "source": [
    "# merge the two dataframes based on a common column 'Date'\n",
    "CPI_df = CPIUK_df.merge(CPIUS_df, on=['Date'])\n",
    "#Merge all datasets\n",
    "df1 = ex_df.merge(CPI_df, how= 'outer', on=['Date'])\n",
    "df1.head()"
   ]
  },
  {
   "cell_type": "code",
   "execution_count": 461,
   "metadata": {
    "collapsed": false
   },
   "outputs": [
    {
     "data": {
      "text/html": [
       "<div>\n",
       "<style scoped>\n",
       "    .dataframe tbody tr th:only-of-type {\n",
       "        vertical-align: middle;\n",
       "    }\n",
       "\n",
       "    .dataframe tbody tr th {\n",
       "        vertical-align: top;\n",
       "    }\n",
       "\n",
       "    .dataframe thead th {\n",
       "        text-align: right;\n",
       "    }\n",
       "</style>\n",
       "<table border=\"1\" class=\"dataframe\">\n",
       "  <thead>\n",
       "    <tr style=\"text-align: right;\">\n",
       "      <th></th>\n",
       "      <th>Date</th>\n",
       "      <th>EXUSUK</th>\n",
       "      <th>ex</th>\n",
       "      <th>log_ex</th>\n",
       "      <th>laglog_ex</th>\n",
       "      <th>change_logex</th>\n",
       "      <th>CPIUK</th>\n",
       "      <th>CPIUS</th>\n",
       "      <th>dCPI</th>\n",
       "    </tr>\n",
       "  </thead>\n",
       "  <tbody>\n",
       "    <tr>\n",
       "      <th>0</th>\n",
       "      <td>1976-01-01</td>\n",
       "      <td>2.0286</td>\n",
       "      <td>0.492951</td>\n",
       "      <td>-0.707346</td>\n",
       "      <td>NaN</td>\n",
       "      <td>NaN</td>\n",
       "      <td>NaN</td>\n",
       "      <td>NaN</td>\n",
       "      <td>NaN</td>\n",
       "    </tr>\n",
       "    <tr>\n",
       "      <th>1</th>\n",
       "      <td>1976-02-01</td>\n",
       "      <td>2.0262</td>\n",
       "      <td>0.493535</td>\n",
       "      <td>-0.706162</td>\n",
       "      <td>-0.707346</td>\n",
       "      <td>0.001184</td>\n",
       "      <td>17.8615</td>\n",
       "      <td>23.5426</td>\n",
       "      <td>-5.68111</td>\n",
       "    </tr>\n",
       "    <tr>\n",
       "      <th>2</th>\n",
       "      <td>1976-03-01</td>\n",
       "      <td>1.9428</td>\n",
       "      <td>0.514721</td>\n",
       "      <td>-0.664130</td>\n",
       "      <td>-0.706162</td>\n",
       "      <td>0.042032</td>\n",
       "      <td>18.091</td>\n",
       "      <td>23.5848</td>\n",
       "      <td>-5.49385</td>\n",
       "    </tr>\n",
       "    <tr>\n",
       "      <th>3</th>\n",
       "      <td>1976-04-01</td>\n",
       "      <td>1.8463</td>\n",
       "      <td>0.541624</td>\n",
       "      <td>-0.613184</td>\n",
       "      <td>-0.664130</td>\n",
       "      <td>0.050947</td>\n",
       "      <td>18.1876</td>\n",
       "      <td>23.627</td>\n",
       "      <td>-5.43943</td>\n",
       "    </tr>\n",
       "    <tr>\n",
       "      <th>4</th>\n",
       "      <td>1976-05-01</td>\n",
       "      <td>1.8079</td>\n",
       "      <td>0.553128</td>\n",
       "      <td>-0.592166</td>\n",
       "      <td>-0.613184</td>\n",
       "      <td>0.021018</td>\n",
       "      <td>18.5378</td>\n",
       "      <td>23.6692</td>\n",
       "      <td>-5.13139</td>\n",
       "    </tr>\n",
       "  </tbody>\n",
       "</table>\n",
       "</div>"
      ],
      "text/plain": [
       "        Date  EXUSUK        ex    log_ex  laglog_ex  change_logex    CPIUK  \\\n",
       "0 1976-01-01  2.0286  0.492951 -0.707346        NaN           NaN      NaN   \n",
       "1 1976-02-01  2.0262  0.493535 -0.706162  -0.707346      0.001184  17.8615   \n",
       "2 1976-03-01  1.9428  0.514721 -0.664130  -0.706162      0.042032   18.091   \n",
       "3 1976-04-01  1.8463  0.541624 -0.613184  -0.664130      0.050947  18.1876   \n",
       "4 1976-05-01  1.8079  0.553128 -0.592166  -0.613184      0.021018  18.5378   \n",
       "\n",
       "     CPIUS     dCPI  \n",
       "0      NaN      NaN  \n",
       "1  23.5426 -5.68111  \n",
       "2  23.5848 -5.49385  \n",
       "3   23.627 -5.43943  \n",
       "4  23.6692 -5.13139  "
      ]
     },
     "execution_count": 461,
     "metadata": {},
     "output_type": "execute_result"
    }
   ],
   "source": [
    "#Create lagged CPIUS and lagged CPIUK\n",
    "df1['CPIUK'] = df1['CPIUK'].shift(1)\n",
    "df1['CPIUS'] = df1['CPIUS'].shift(1)\n",
    "#Difference of price levels between US and UK\n",
    "df1['dCPI'] = df1.CPIUK - df1.CPIUS\n",
    "df1.head()"
   ]
  },
  {
   "cell_type": "code",
   "execution_count": 462,
   "metadata": {
    "collapsed": false
   },
   "outputs": [
    {
     "data": {
      "text/plain": [
       "Date            datetime64[ns]\n",
       "EXUSUK                  object\n",
       "ex                      object\n",
       "log_ex                 float64\n",
       "laglog_ex              float64\n",
       "change_logex           float64\n",
       "CPIUK                   object\n",
       "CPIUS                   object\n",
       "dCPI                    object\n",
       "dtype: object"
      ]
     },
     "execution_count": 462,
     "metadata": {},
     "output_type": "execute_result"
    }
   ],
   "source": [
    "df1.dtypes"
   ]
  },
  {
   "cell_type": "markdown",
   "metadata": {},
   "source": [
    "### ====>> Convert object to float for regression purposes"
   ]
  },
  {
   "cell_type": "code",
   "execution_count": 463,
   "metadata": {
    "collapsed": false
   },
   "outputs": [
    {
     "data": {
      "text/html": [
       "<div>\n",
       "<style scoped>\n",
       "    .dataframe tbody tr th:only-of-type {\n",
       "        vertical-align: middle;\n",
       "    }\n",
       "\n",
       "    .dataframe tbody tr th {\n",
       "        vertical-align: top;\n",
       "    }\n",
       "\n",
       "    .dataframe thead th {\n",
       "        text-align: right;\n",
       "    }\n",
       "</style>\n",
       "<table border=\"1\" class=\"dataframe\">\n",
       "  <thead>\n",
       "    <tr style=\"text-align: right;\">\n",
       "      <th></th>\n",
       "      <th>Date</th>\n",
       "      <th>EXUSUK</th>\n",
       "      <th>ex</th>\n",
       "      <th>log_ex</th>\n",
       "      <th>laglog_ex</th>\n",
       "      <th>change_logex</th>\n",
       "      <th>CPIUK</th>\n",
       "      <th>CPIUS</th>\n",
       "      <th>dCPI</th>\n",
       "    </tr>\n",
       "  </thead>\n",
       "  <tbody>\n",
       "    <tr>\n",
       "      <th>0</th>\n",
       "      <td>1976-01-01</td>\n",
       "      <td>2.0286</td>\n",
       "      <td>0.492951</td>\n",
       "      <td>-0.707346</td>\n",
       "      <td>NaN</td>\n",
       "      <td>NaN</td>\n",
       "      <td>NaN</td>\n",
       "      <td>NaN</td>\n",
       "      <td>NaN</td>\n",
       "    </tr>\n",
       "    <tr>\n",
       "      <th>1</th>\n",
       "      <td>1976-02-01</td>\n",
       "      <td>2.0262</td>\n",
       "      <td>0.493535</td>\n",
       "      <td>-0.706162</td>\n",
       "      <td>-0.707346</td>\n",
       "      <td>0.001184</td>\n",
       "      <td>17.861500</td>\n",
       "      <td>23.542615</td>\n",
       "      <td>-5.681115</td>\n",
       "    </tr>\n",
       "    <tr>\n",
       "      <th>2</th>\n",
       "      <td>1976-03-01</td>\n",
       "      <td>1.9428</td>\n",
       "      <td>0.514721</td>\n",
       "      <td>-0.664130</td>\n",
       "      <td>-0.706162</td>\n",
       "      <td>0.042032</td>\n",
       "      <td>18.090958</td>\n",
       "      <td>23.584806</td>\n",
       "      <td>-5.493848</td>\n",
       "    </tr>\n",
       "    <tr>\n",
       "      <th>3</th>\n",
       "      <td>1976-04-01</td>\n",
       "      <td>1.8463</td>\n",
       "      <td>0.541624</td>\n",
       "      <td>-0.613184</td>\n",
       "      <td>-0.664130</td>\n",
       "      <td>0.050947</td>\n",
       "      <td>18.187572</td>\n",
       "      <td>23.626997</td>\n",
       "      <td>-5.439425</td>\n",
       "    </tr>\n",
       "    <tr>\n",
       "      <th>4</th>\n",
       "      <td>1976-05-01</td>\n",
       "      <td>1.8079</td>\n",
       "      <td>0.553128</td>\n",
       "      <td>-0.592166</td>\n",
       "      <td>-0.613184</td>\n",
       "      <td>0.021018</td>\n",
       "      <td>18.537798</td>\n",
       "      <td>23.669188</td>\n",
       "      <td>-5.131391</td>\n",
       "    </tr>\n",
       "  </tbody>\n",
       "</table>\n",
       "</div>"
      ],
      "text/plain": [
       "        Date  EXUSUK        ex    log_ex  laglog_ex  change_logex      CPIUK  \\\n",
       "0 1976-01-01  2.0286  0.492951 -0.707346        NaN           NaN        NaN   \n",
       "1 1976-02-01  2.0262  0.493535 -0.706162  -0.707346      0.001184  17.861500   \n",
       "2 1976-03-01  1.9428  0.514721 -0.664130  -0.706162      0.042032  18.090958   \n",
       "3 1976-04-01  1.8463  0.541624 -0.613184  -0.664130      0.050947  18.187572   \n",
       "4 1976-05-01  1.8079  0.553128 -0.592166  -0.613184      0.021018  18.537798   \n",
       "\n",
       "       CPIUS      dCPI  \n",
       "0        NaN       NaN  \n",
       "1  23.542615 -5.681115  \n",
       "2  23.584806 -5.493848  \n",
       "3  23.626997 -5.439425  \n",
       "4  23.669188 -5.131391  "
      ]
     },
     "execution_count": 463,
     "metadata": {},
     "output_type": "execute_result"
    }
   ],
   "source": [
    "df1['EXUSUK'] = pd.to_numeric(df1.EXUSUK, errors='coerce')\n",
    "df1['ex'] = pd.to_numeric(df1.ex, errors='coerce')\n",
    "df1['CPIUK'] = pd.to_numeric(df1.CPIUK, errors='coerce')\n",
    "df1['CPIUS'] = pd.to_numeric(df1.CPIUS, errors='coerce')\n",
    "df1['dCPI'] = pd.to_numeric(df1.dCPI, errors='coerce')\n",
    "df1.head()"
   ]
  },
  {
   "cell_type": "code",
   "execution_count": 464,
   "metadata": {
    "collapsed": false
   },
   "outputs": [
    {
     "data": {
      "text/plain": [
       "Date            datetime64[ns]\n",
       "EXUSUK                 float64\n",
       "ex                     float64\n",
       "log_ex                 float64\n",
       "laglog_ex              float64\n",
       "change_logex           float64\n",
       "CPIUK                  float64\n",
       "CPIUS                  float64\n",
       "dCPI                   float64\n",
       "dtype: object"
      ]
     },
     "execution_count": 464,
     "metadata": {},
     "output_type": "execute_result"
    }
   ],
   "source": [
    "df1.dtypes"
   ]
  },
  {
   "cell_type": "markdown",
   "metadata": {},
   "source": [
    "# 6. Handle Missing Values"
   ]
  },
  {
   "cell_type": "code",
   "execution_count": 465,
   "metadata": {
    "collapsed": false
   },
   "outputs": [
    {
     "data": {
      "text/html": [
       "<div>\n",
       "<style scoped>\n",
       "    .dataframe tbody tr th:only-of-type {\n",
       "        vertical-align: middle;\n",
       "    }\n",
       "\n",
       "    .dataframe tbody tr th {\n",
       "        vertical-align: top;\n",
       "    }\n",
       "\n",
       "    .dataframe thead th {\n",
       "        text-align: right;\n",
       "    }\n",
       "</style>\n",
       "<table border=\"1\" class=\"dataframe\">\n",
       "  <thead>\n",
       "    <tr style=\"text-align: right;\">\n",
       "      <th></th>\n",
       "      <th>Date</th>\n",
       "      <th>EXUSUK</th>\n",
       "      <th>ex</th>\n",
       "      <th>log_ex</th>\n",
       "      <th>laglog_ex</th>\n",
       "      <th>change_logex</th>\n",
       "      <th>CPIUK</th>\n",
       "      <th>CPIUS</th>\n",
       "      <th>dCPI</th>\n",
       "    </tr>\n",
       "  </thead>\n",
       "  <tbody>\n",
       "    <tr>\n",
       "      <th>1</th>\n",
       "      <td>1976-02-01</td>\n",
       "      <td>2.0262</td>\n",
       "      <td>0.493535</td>\n",
       "      <td>-0.706162</td>\n",
       "      <td>-0.707346</td>\n",
       "      <td>0.001184</td>\n",
       "      <td>17.861500</td>\n",
       "      <td>23.542615</td>\n",
       "      <td>-5.681115</td>\n",
       "    </tr>\n",
       "    <tr>\n",
       "      <th>2</th>\n",
       "      <td>1976-03-01</td>\n",
       "      <td>1.9428</td>\n",
       "      <td>0.514721</td>\n",
       "      <td>-0.664130</td>\n",
       "      <td>-0.706162</td>\n",
       "      <td>0.042032</td>\n",
       "      <td>18.090958</td>\n",
       "      <td>23.584806</td>\n",
       "      <td>-5.493848</td>\n",
       "    </tr>\n",
       "    <tr>\n",
       "      <th>3</th>\n",
       "      <td>1976-04-01</td>\n",
       "      <td>1.8463</td>\n",
       "      <td>0.541624</td>\n",
       "      <td>-0.613184</td>\n",
       "      <td>-0.664130</td>\n",
       "      <td>0.050947</td>\n",
       "      <td>18.187572</td>\n",
       "      <td>23.626997</td>\n",
       "      <td>-5.439425</td>\n",
       "    </tr>\n",
       "    <tr>\n",
       "      <th>4</th>\n",
       "      <td>1976-05-01</td>\n",
       "      <td>1.8079</td>\n",
       "      <td>0.553128</td>\n",
       "      <td>-0.592166</td>\n",
       "      <td>-0.613184</td>\n",
       "      <td>0.021018</td>\n",
       "      <td>18.537798</td>\n",
       "      <td>23.669188</td>\n",
       "      <td>-5.131391</td>\n",
       "    </tr>\n",
       "    <tr>\n",
       "      <th>5</th>\n",
       "      <td>1976-06-01</td>\n",
       "      <td>1.7640</td>\n",
       "      <td>0.566893</td>\n",
       "      <td>-0.567584</td>\n",
       "      <td>-0.592166</td>\n",
       "      <td>0.024582</td>\n",
       "      <td>18.743102</td>\n",
       "      <td>23.795761</td>\n",
       "      <td>-5.052659</td>\n",
       "    </tr>\n",
       "  </tbody>\n",
       "</table>\n",
       "</div>"
      ],
      "text/plain": [
       "        Date  EXUSUK        ex    log_ex  laglog_ex  change_logex      CPIUK  \\\n",
       "1 1976-02-01  2.0262  0.493535 -0.706162  -0.707346      0.001184  17.861500   \n",
       "2 1976-03-01  1.9428  0.514721 -0.664130  -0.706162      0.042032  18.090958   \n",
       "3 1976-04-01  1.8463  0.541624 -0.613184  -0.664130      0.050947  18.187572   \n",
       "4 1976-05-01  1.8079  0.553128 -0.592166  -0.613184      0.021018  18.537798   \n",
       "5 1976-06-01  1.7640  0.566893 -0.567584  -0.592166      0.024582  18.743102   \n",
       "\n",
       "       CPIUS      dCPI  \n",
       "1  23.542615 -5.681115  \n",
       "2  23.584806 -5.493848  \n",
       "3  23.626997 -5.439425  \n",
       "4  23.669188 -5.131391  \n",
       "5  23.795761 -5.052659  "
      ]
     },
     "execution_count": 465,
     "metadata": {},
     "output_type": "execute_result"
    }
   ],
   "source": [
    "#Since missing values only appear in the first row, so drop the first row to leave 478 observations.\n",
    "df1.drop(df1.index[:1],inplace=True)\n",
    "df1.head()\n",
    "#So that there are 478 observations now."
   ]
  },
  {
   "cell_type": "code",
   "execution_count": 466,
   "metadata": {
    "collapsed": false
   },
   "outputs": [
    {
     "data": {
      "text/html": [
       "<div>\n",
       "<style scoped>\n",
       "    .dataframe tbody tr th:only-of-type {\n",
       "        vertical-align: middle;\n",
       "    }\n",
       "\n",
       "    .dataframe tbody tr th {\n",
       "        vertical-align: top;\n",
       "    }\n",
       "\n",
       "    .dataframe thead th {\n",
       "        text-align: right;\n",
       "    }\n",
       "</style>\n",
       "<table border=\"1\" class=\"dataframe\">\n",
       "  <thead>\n",
       "    <tr style=\"text-align: right;\">\n",
       "      <th></th>\n",
       "      <th>Date</th>\n",
       "      <th>EXUSUK</th>\n",
       "      <th>ex</th>\n",
       "      <th>log_ex</th>\n",
       "      <th>laglog_ex</th>\n",
       "      <th>change_logex</th>\n",
       "      <th>CPIUK</th>\n",
       "      <th>CPIUS</th>\n",
       "      <th>dCPI</th>\n",
       "    </tr>\n",
       "  </thead>\n",
       "  <tbody>\n",
       "    <tr>\n",
       "      <th>477</th>\n",
       "      <td>2015-10-01</td>\n",
       "      <td>1.5343</td>\n",
       "      <td>0.651763</td>\n",
       "      <td>-0.428074</td>\n",
       "      <td>-0.427748</td>\n",
       "      <td>-0.000326</td>\n",
       "      <td>100.2</td>\n",
       "      <td>100.189860</td>\n",
       "      <td>0.010140</td>\n",
       "    </tr>\n",
       "    <tr>\n",
       "      <th>478</th>\n",
       "      <td>2015-11-01</td>\n",
       "      <td>1.5194</td>\n",
       "      <td>0.658155</td>\n",
       "      <td>-0.418316</td>\n",
       "      <td>-0.428074</td>\n",
       "      <td>0.009759</td>\n",
       "      <td>100.3</td>\n",
       "      <td>100.315167</td>\n",
       "      <td>-0.015167</td>\n",
       "    </tr>\n",
       "  </tbody>\n",
       "</table>\n",
       "</div>"
      ],
      "text/plain": [
       "          Date  EXUSUK        ex    log_ex  laglog_ex  change_logex  CPIUK  \\\n",
       "477 2015-10-01  1.5343  0.651763 -0.428074  -0.427748     -0.000326  100.2   \n",
       "478 2015-11-01  1.5194  0.658155 -0.418316  -0.428074      0.009759  100.3   \n",
       "\n",
       "          CPIUS      dCPI  \n",
       "477  100.189860  0.010140  \n",
       "478  100.315167 -0.015167  "
      ]
     },
     "execution_count": 466,
     "metadata": {},
     "output_type": "execute_result"
    }
   ],
   "source": [
    "#double-check whether all variables have the same shape\n",
    "df1.iloc[476:480,:]"
   ]
  },
  {
   "cell_type": "code",
   "execution_count": 468,
   "metadata": {
    "collapsed": false
   },
   "outputs": [
    {
     "name": "stdout",
     "output_type": "stream",
     "text": [
      "<class 'pandas.core.frame.DataFrame'>\n",
      "Int64Index: 478 entries, 1 to 478\n",
      "Data columns (total 9 columns):\n",
      "Date            478 non-null datetime64[ns]\n",
      "EXUSUK          478 non-null float64\n",
      "ex              478 non-null float64\n",
      "log_ex          478 non-null float64\n",
      "laglog_ex       478 non-null float64\n",
      "change_logex    478 non-null float64\n",
      "CPIUK           478 non-null float64\n",
      "CPIUS           478 non-null float64\n",
      "dCPI            478 non-null float64\n",
      "dtypes: datetime64[ns](1), float64(8)\n",
      "memory usage: 37.3 KB\n"
     ]
    }
   ],
   "source": [
    "df1.info()"
   ]
  },
  {
   "cell_type": "markdown",
   "metadata": {},
   "source": [
    "# 7. The Random Walk Benchmark\n",
    "Forecasting exchange rate has led to some difficult questions in financial and economic empirical studies. Since Meese and Rogoff (1983), it has been prevailing that the out-of-sample forecasting ability of exchange rate when conditioning on macroeconomic variables is extremely poor; in particular, at short horizons, they suggest that the random walk model performs better than other empirical exchange rate models. This project uses the random walk without drift as a benchmark to\n",
    "compare with other models. For example, when forecast exchange rate with Purchasing Power Parity (PPP) model, the random walk model as specified in equation (1) is the null hypothesis:\n",
    "\\begin{equation*}\n",
    "\\mathbf{e}_t = \\mathbf{e}_{t-1} + \\mathbf{v}_t\n",
    "\\end{equation*}\n",
    "\n",
    "By the definition of the random walk without drift, exchange rates follow a martingale difference process, in other words, $E(\\mathbf{e}_{t+1}|\\mathbf{e}_t, \\mathbf{e}_{t-1}, …, \\mathbf{e}_0) = \\mathbf{e}_t$ for all t; the best prediction of $\\mathbf{e}_{t+1}$ is $\\mathbf{e}_t$ for all t >= 0. "
   ]
  },
  {
   "cell_type": "markdown",
   "metadata": {},
   "source": [
    "# 7.1 Find Optimal Values for an ARIMA Model"
   ]
  },
  {
   "cell_type": "markdown",
   "metadata": {},
   "source": [
    "To use an ARIMA model, I first need to find optimal parameters of the **ARIMA(p,d,q)**, which contains the following three parameters p,d and q:\n",
    "\n",
    "**The number of autoregressive (AR) terms (p):** p are lags of the dependent variable which is the exchange rate of US and UK. So, if p=2, it means that predictors of $\\mathbf{e}_{t}$ will be $\\mathbf{e}_{t-1}$, $\\mathbf{e}_{t-2}$.\n",
    "\n",
    "**The number of moving average (MA) terms (q):** q are lagged forecast errors in the prediction equation. For instance, if q=1, the predictors for $\\mathbf{e}_{t}$ will be $\\delta_{t-1}$ where $\\delta_{i}$ is the difference between the moving average at i-th instant and the actual value.\n",
    "\n",
    "**The number of differences (d):** d are the number of non-seasonal differences. In my case, d=1, as I am modeling the first difference of time series.\n",
    "\n",
    "To determine the number of AR and MA terms. I use the **arma_order_select_ic** function in Python:"
   ]
  },
  {
   "cell_type": "code",
   "execution_count": 469,
   "metadata": {
    "collapsed": false
   },
   "outputs": [
    {
     "data": {
      "text/plain": [
       "(0, 1)"
      ]
     },
     "execution_count": 469,
     "metadata": {},
     "output_type": "execute_result"
    }
   ],
   "source": [
    "sm.tsa.arma_order_select_ic(df1['change_logex'].values, max_ar = 4, max_ma = 2, ic='aic')['aic_min_order'] # AIC"
   ]
  },
  {
   "cell_type": "markdown",
   "metadata": {},
   "source": [
    "(0,1) represents (p,q). Thus, the order selection results suggest me to choose 0 lag for my dependent variable and 1 lag for forecast errors."
   ]
  },
  {
   "cell_type": "markdown",
   "metadata": {},
   "source": [
    "# 7.2 The ARIMA model using the values (0,1,1):"
   ]
  },
  {
   "cell_type": "markdown",
   "metadata": {},
   "source": [
    "#### Time set the variables"
   ]
  },
  {
   "cell_type": "code",
   "execution_count": 471,
   "metadata": {
    "collapsed": false
   },
   "outputs": [
    {
     "data": {
      "text/plain": [
       "Date\n",
       "1976-02-29    0.493535\n",
       "1976-03-31    0.514721\n",
       "1976-04-30    0.541624\n",
       "1976-05-31    0.553128\n",
       "1976-06-30    0.566893\n",
       "Freq: M, Name: ex, dtype: float64"
      ]
     },
     "execution_count": 471,
     "metadata": {},
     "output_type": "execute_result"
    }
   ],
   "source": [
    "#time set the exchange rate variable for the time series regeression\n",
    "indexed_df1 = df1.set_index('Date')\n",
    "ts_ex = indexed_df1['ex']\n",
    "ts_ex = ts_ex.resample('M').mean()\n",
    "ts_ex.head()"
   ]
  },
  {
   "cell_type": "code",
   "execution_count": 472,
   "metadata": {
    "collapsed": false
   },
   "outputs": [
    {
     "data": {
      "text/plain": [
       "Date\n",
       "1976-02-29   -0.706162\n",
       "1976-03-31   -0.664130\n",
       "1976-04-30   -0.613184\n",
       "1976-05-31   -0.592166\n",
       "1976-06-30   -0.567584\n",
       "Freq: M, Name: log_ex, dtype: float64"
      ]
     },
     "execution_count": 472,
     "metadata": {},
     "output_type": "execute_result"
    }
   ],
   "source": [
    "indexed_df1 = df1.set_index('Date')\n",
    "ts_log_ex = indexed_df1['log_ex']\n",
    "ts_log_ex = ts_log_ex.resample('M').mean()\n",
    "ts_log_ex.head()"
   ]
  },
  {
   "cell_type": "code",
   "execution_count": 473,
   "metadata": {
    "collapsed": false
   },
   "outputs": [
    {
     "data": {
      "text/plain": [
       "Date\n",
       "1976-02-29    0.001184\n",
       "1976-03-31    0.042032\n",
       "1976-04-30    0.050947\n",
       "1976-05-31    0.021018\n",
       "1976-06-30    0.024582\n",
       "Freq: M, Name: change_logex, dtype: float64"
      ]
     },
     "execution_count": 473,
     "metadata": {},
     "output_type": "execute_result"
    }
   ],
   "source": [
    "indexed_df1 = df1.set_index('Date')\n",
    "ts_change_logex = indexed_df1['change_logex']\n",
    "ts_change_logex = ts_change_logex.resample('M').mean()\n",
    "ts_change_logex.head()"
   ]
  },
  {
   "cell_type": "markdown",
   "metadata": {},
   "source": [
    "#### Apply The ARIMA model "
   ]
  },
  {
   "cell_type": "code",
   "execution_count": 474,
   "metadata": {
    "collapsed": false
   },
   "outputs": [
    {
     "name": "stdout",
     "output_type": "stream",
     "text": [
      "                             ARIMA Model Results                              \n",
      "==============================================================================\n",
      "Dep. Variable:               D.log_ex   No. Observations:                  477\n",
      "Model:                 ARIMA(0, 1, 1)   Log Likelihood                1128.574\n",
      "Method:                       css-mle   S.D. of innovations              0.023\n",
      "Date:                Thu, 13 Dec 2018   AIC                          -2251.148\n",
      "Time:                        23:46:16   BIC                          -2238.645\n",
      "Sample:                    03-31-1976   HQIC                         -2246.232\n",
      "                         - 11-30-2015                                         \n",
      "==================================================================================\n",
      "                     coef    std err          z      P>|z|      [0.025      0.975]\n",
      "----------------------------------------------------------------------------------\n",
      "const              0.0006      0.001      0.440      0.660      -0.002       0.003\n",
      "ma.L1.D.log_ex     0.3810      0.042      9.076      0.000       0.299       0.463\n",
      "                                    Roots                                    \n",
      "=============================================================================\n",
      "                  Real          Imaginary           Modulus         Frequency\n",
      "-----------------------------------------------------------------------------\n",
      "MA.1           -2.6244           +0.0000j            2.6244            0.5000\n",
      "-----------------------------------------------------------------------------\n"
     ]
    }
   ],
   "source": [
    "model = ARIMA(ts_log_ex, order=(0, 1, 1))  \n",
    "results_ARIMA = model.fit(disp=-1)  \n",
    "print(results_ARIMA.summary())"
   ]
  },
  {
   "cell_type": "markdown",
   "metadata": {},
   "source": [
    "**Notes:** L1.D.change_logex means the variable \"change_logex\" has 1 lag for the regeression.\n",
    "\n",
    "**Results:** The significantly large p-value for the constant confirms that the choice of a random walk model without drift(without constant) is better than a random walk model with drift(with a constant) because the constant is not statistically significant(p-value of 0.66 is quite big). "
   ]
  },
  {
   "cell_type": "code",
   "execution_count": 475,
   "metadata": {
    "collapsed": false
   },
   "outputs": [
    {
     "name": "stdout",
     "output_type": "stream",
     "text": [
      "                0\n",
      "count  477.000000\n",
      "mean    -0.000010\n",
      "std      0.022742\n",
      "min     -0.081890\n",
      "25%     -0.014455\n",
      "50%      0.000171\n",
      "75%      0.013211\n",
      "max      0.090342\n"
     ]
    },
    {
     "data": {
      "image/png": "[encoded data removed]",
      "text/plain": [
       "<Figure size 432x288 with 1 Axes>"
      ]
     },
     "metadata": {
      "needs_background": "light"
     },
     "output_type": "display_data"
    }
   ],
   "source": [
    "# plot residual errors\n",
    "residuals = DataFrame(results_ARIMA.resid)\n",
    "residuals.plot(kind='kde')\n",
    "print(residuals.describe())"
   ]
  },
  {
   "cell_type": "markdown",
   "metadata": {},
   "source": [
    "# 7.3 Model Validation Check Results\n",
    "**The model validation checks have confirmed good results because the density plot of the residual errors indicates a normal distribution centered around zero mean. Also, the residuals do not violate the assumptions of constant location and scale with most values in the range (-1,1).** So continue the following scale  prediction:"
   ]
  },
  {
   "cell_type": "markdown",
   "metadata": {},
   "source": [
    "# 7.4 Scale Predictions\n",
    "Back to original scale for exchange rate predictions, which requires to remove the first order differencing and take exponent to restore the predictions back to their original scale.\n",
    "The lower the root mean square error (RMSE) and the closer it is to 0, the better are the model predictions in being closer to actual values."
   ]
  },
  {
   "cell_type": "code",
   "execution_count": 406,
   "metadata": {
    "collapsed": false
   },
   "outputs": [
    {
     "name": "stdout",
     "output_type": "stream",
     "text": [
      "Date\n",
      "1976-03-31    0.000632\n",
      "1976-04-30    0.014407\n",
      "1976-05-31    0.014303\n",
      "1976-06-30    0.003183\n",
      "1976-07-31    0.008782\n",
      "Freq: M, dtype: float64\n"
     ]
    }
   ],
   "source": [
    "predictions_ARIMA_diff = pd.Series(results_ARIMA.fittedvalues, copy=True)\n",
    "print (predictions_ARIMA_diff.head())"
   ]
  },
  {
   "cell_type": "markdown",
   "metadata": {},
   "source": [
    "#### (1) Remove the first order differencing "
   ]
  },
  {
   "cell_type": "code",
   "execution_count": 407,
   "metadata": {
    "collapsed": true
   },
   "outputs": [],
   "source": [
    "predictions_ARIMA_diff_cumsum = predictions_ARIMA_diff.cumsum()\n",
    "predictions_ARIMA_log = pd.Series(ts_log_ex.iloc[0], index=ts_log_ex.index)\n",
    "predictions_ARIMA_log = predictions_ARIMA_log.add(predictions_ARIMA_diff_cumsum,fill_value=0)"
   ]
  },
  {
   "cell_type": "markdown",
   "metadata": {},
   "source": [
    "#### (2) Take exponent to restore the predictions back to the original scale"
   ]
  },
  {
   "cell_type": "code",
   "execution_count": 408,
   "metadata": {
    "collapsed": false
   },
   "outputs": [
    {
     "data": {
      "text/plain": [
       "Text(0.5, 1.0, 'RMSE: 0.0657')"
      ]
     },
     "execution_count": 408,
     "metadata": {},
     "output_type": "execute_result"
    },
    {
     "data": {
      "image/png": "[encoded data removed]",
      "text/plain": [
       "<Figure size 432x288 with 1 Axes>"
      ]
     },
     "metadata": {
      "needs_background": "light"
     },
     "output_type": "display_data"
    }
   ],
   "source": [
    "predictions_ARIMA = np.exp(predictions_ARIMA_log)\n",
    "plt.plot(ts_ex.index.to_pydatetime(), ts_ex.values)\n",
    "plt.plot(ts_ex.index.to_pydatetime(), predictions_ARIMA.values)\n",
    "plt.title('RMSE: %.4f'% np.sqrt(sum((predictions_ARIMA-ts_ex)**2)/len(ts_ex)))"
   ]
  },
  {
   "cell_type": "markdown",
   "metadata": {},
   "source": [
    "# 7.5 Prediction Results:\n",
    "The RMSE(0.0657) is pretty small and close to 0, which means the model predictions are quite accurate."
   ]
  },
  {
   "cell_type": "markdown",
   "metadata": {},
   "source": [
    "# 8. In-sample Linear Regression Estimates of PPP Model"
   ]
  },
  {
   "cell_type": "code",
   "execution_count": 409,
   "metadata": {
    "collapsed": false
   },
   "outputs": [
    {
     "data": {
      "text/html": [
       "<table class=\"simpletable\">\n",
       "<caption>OLS Regression Results</caption>\n",
       "<tr>\n",
       "  <th>Dep. Variable:</th>      <td>change_logex</td>   <th>  R-squared:         </th> <td>   0.003</td>\n",
       "</tr>\n",
       "<tr>\n",
       "  <th>Model:</th>                   <td>OLS</td>       <th>  Adj. R-squared:    </th> <td>   0.001</td>\n",
       "</tr>\n",
       "<tr>\n",
       "  <th>Method:</th>             <td>Least Squares</td>  <th>  F-statistic:       </th> <td>   1.418</td>\n",
       "</tr>\n",
       "<tr>\n",
       "  <th>Date:</th>             <td>Thu, 13 Dec 2018</td> <th>  Prob (F-statistic):</th>  <td> 0.234</td> \n",
       "</tr>\n",
       "<tr>\n",
       "  <th>Time:</th>                 <td>22:47:21</td>     <th>  Log-Likelihood:    </th> <td>  1099.5</td>\n",
       "</tr>\n",
       "<tr>\n",
       "  <th>No. Observations:</th>      <td>   478</td>      <th>  AIC:               </th> <td>  -2195.</td>\n",
       "</tr>\n",
       "<tr>\n",
       "  <th>Df Residuals:</th>          <td>   476</td>      <th>  BIC:               </th> <td>  -2187.</td>\n",
       "</tr>\n",
       "<tr>\n",
       "  <th>Df Model:</th>              <td>     1</td>      <th>                     </th>     <td> </td>   \n",
       "</tr>\n",
       "<tr>\n",
       "  <th>Covariance Type:</th>      <td>nonrobust</td>    <th>                     </th>     <td> </td>   \n",
       "</tr>\n",
       "</table>\n",
       "<table class=\"simpletable\">\n",
       "<tr>\n",
       "      <td></td>         <th>coef</th>     <th>std err</th>      <th>t</th>      <th>P>|t|</th>  <th>[0.025</th>    <th>0.975]</th>  \n",
       "</tr>\n",
       "<tr>\n",
       "  <th>Intercept</th> <td>    0.0005</td> <td>    0.001</td> <td>    0.406</td> <td> 0.685</td> <td>   -0.002</td> <td>    0.003</td>\n",
       "</tr>\n",
       "<tr>\n",
       "  <th>dCPI</th>      <td>   -0.0005</td> <td>    0.000</td> <td>   -1.191</td> <td> 0.234</td> <td>   -0.001</td> <td>    0.000</td>\n",
       "</tr>\n",
       "</table>\n",
       "<table class=\"simpletable\">\n",
       "<tr>\n",
       "  <th>Omnibus:</th>       <td>27.751</td> <th>  Durbin-Watson:     </th> <td>   1.326</td>\n",
       "</tr>\n",
       "<tr>\n",
       "  <th>Prob(Omnibus):</th> <td> 0.000</td> <th>  Jarque-Bera (JB):  </th> <td>  68.589</td>\n",
       "</tr>\n",
       "<tr>\n",
       "  <th>Skew:</th>          <td> 0.257</td> <th>  Prob(JB):          </th> <td>1.28e-15</td>\n",
       "</tr>\n",
       "<tr>\n",
       "  <th>Kurtosis:</th>      <td> 4.783</td> <th>  Cond. No.          </th> <td>    2.82</td>\n",
       "</tr>\n",
       "</table><br/><br/>Warnings:<br/>[1] Standard Errors assume that the covariance matrix of the errors is correctly specified."
      ],
      "text/plain": [
       "<class 'statsmodels.iolib.summary.Summary'>\n",
       "\"\"\"\n",
       "                            OLS Regression Results                            \n",
       "==============================================================================\n",
       "Dep. Variable:           change_logex   R-squared:                       0.003\n",
       "Model:                            OLS   Adj. R-squared:                  0.001\n",
       "Method:                 Least Squares   F-statistic:                     1.418\n",
       "Date:                Thu, 13 Dec 2018   Prob (F-statistic):              0.234\n",
       "Time:                        22:47:21   Log-Likelihood:                 1099.5\n",
       "No. Observations:                 478   AIC:                            -2195.\n",
       "Df Residuals:                     476   BIC:                            -2187.\n",
       "Df Model:                           1                                         \n",
       "Covariance Type:            nonrobust                                         \n",
       "==============================================================================\n",
       "                 coef    std err          t      P>|t|      [0.025      0.975]\n",
       "------------------------------------------------------------------------------\n",
       "Intercept      0.0005      0.001      0.406      0.685      -0.002       0.003\n",
       "dCPI          -0.0005      0.000     -1.191      0.234      -0.001       0.000\n",
       "==============================================================================\n",
       "Omnibus:                       27.751   Durbin-Watson:                   1.326\n",
       "Prob(Omnibus):                  0.000   Jarque-Bera (JB):               68.589\n",
       "Skew:                           0.257   Prob(JB):                     1.28e-15\n",
       "Kurtosis:                       4.783   Cond. No.                         2.82\n",
       "==============================================================================\n",
       "\n",
       "Warnings:\n",
       "[1] Standard Errors assume that the covariance matrix of the errors is correctly specified.\n",
       "\"\"\""
      ]
     },
     "execution_count": 409,
     "metadata": {},
     "output_type": "execute_result"
    }
   ],
   "source": [
    "import statsmodels.api as sm\n",
    "import statsmodels.formula.api as smf\n",
    "\n",
    "results = smf.ols('change_logex ~ dCPI', data = df1).fit()\n",
    "# print(results.params)\n",
    "results.summary()"
   ]
  },
  {
   "cell_type": "markdown",
   "metadata": {},
   "source": [
    "**Results: The extremely small R-squared and adjusted R-squared indicate that the price level difference actually has little \n",
    "explanation power of the exchange rate changes. It shows no strong relationships between explainable variables and the logarithmic changes in exchange rate because all coefficients are not statistically significant.**"
   ]
  },
  {
   "cell_type": "markdown",
   "metadata": {},
   "source": [
    "# 9. One-Step Out-of-Sample Forecasting (One-Month Horizon)\n",
    "In order to assess the statistical significance of the forecasting results, **the squared prediction errors (MSPE)** is used, which is calculated by take the average of the mean sqaured(y - predicted_y).\n",
    "## 9.1 PPP Model"
   ]
  },
  {
   "cell_type": "code",
   "execution_count": 476,
   "metadata": {
    "collapsed": true
   },
   "outputs": [],
   "source": [
    "from pyfinance.ols import PandasRollingOLS\n",
    "\n",
    "y = df1.change_logex\n",
    "x = df1.dCPI\n",
    "\n",
    "window = 120  # months\n",
    "ppp_model = PandasRollingOLS(y=y, x=x, window=window)"
   ]
  },
  {
   "cell_type": "code",
   "execution_count": 477,
   "metadata": {
    "collapsed": false
   },
   "outputs": [
    {
     "data": {
      "text/html": [
       "<div>\n",
       "<style scoped>\n",
       "    .dataframe tbody tr th:only-of-type {\n",
       "        vertical-align: middle;\n",
       "    }\n",
       "\n",
       "    .dataframe tbody tr th {\n",
       "        vertical-align: top;\n",
       "    }\n",
       "\n",
       "    .dataframe thead th {\n",
       "        text-align: right;\n",
       "    }\n",
       "</style>\n",
       "<table border=\"1\" class=\"dataframe\">\n",
       "  <thead>\n",
       "    <tr style=\"text-align: right;\">\n",
       "      <th></th>\n",
       "      <th></th>\n",
       "      <th>predicted</th>\n",
       "    </tr>\n",
       "    <tr>\n",
       "      <th>end</th>\n",
       "      <th>subperiod</th>\n",
       "      <th></th>\n",
       "    </tr>\n",
       "  </thead>\n",
       "  <tbody>\n",
       "    <tr>\n",
       "      <th rowspan=\"5\" valign=\"top\">120</th>\n",
       "      <th>1</th>\n",
       "      <td>0.005138</td>\n",
       "    </tr>\n",
       "    <tr>\n",
       "      <th>2</th>\n",
       "      <td>0.005001</td>\n",
       "    </tr>\n",
       "    <tr>\n",
       "      <th>3</th>\n",
       "      <td>0.004961</td>\n",
       "    </tr>\n",
       "    <tr>\n",
       "      <th>4</th>\n",
       "      <td>0.004735</td>\n",
       "    </tr>\n",
       "    <tr>\n",
       "      <th>5</th>\n",
       "      <td>0.004677</td>\n",
       "    </tr>\n",
       "  </tbody>\n",
       "</table>\n",
       "</div>"
      ],
      "text/plain": [
       "               predicted\n",
       "end subperiod           \n",
       "120 1           0.005138\n",
       "    2           0.005001\n",
       "    3           0.004961\n",
       "    4           0.004735\n",
       "    5           0.004677"
      ]
     },
     "execution_count": 477,
     "metadata": {},
     "output_type": "execute_result"
    }
   ],
   "source": [
    "predicted_results = pd.DataFrame(ppp_model.predicted)\n",
    "predicted_results.head()"
   ]
  },
  {
   "cell_type": "code",
   "execution_count": 479,
   "metadata": {
    "collapsed": false
   },
   "outputs": [
    {
     "data": {
      "text/html": [
       "<div>\n",
       "<style scoped>\n",
       "    .dataframe tbody tr th:only-of-type {\n",
       "        vertical-align: middle;\n",
       "    }\n",
       "\n",
       "    .dataframe tbody tr th {\n",
       "        vertical-align: top;\n",
       "    }\n",
       "\n",
       "    .dataframe thead th {\n",
       "        text-align: right;\n",
       "    }\n",
       "</style>\n",
       "<table border=\"1\" class=\"dataframe\">\n",
       "  <thead>\n",
       "    <tr style=\"text-align: right;\">\n",
       "      <th></th>\n",
       "      <th>ms_err</th>\n",
       "    </tr>\n",
       "  </thead>\n",
       "  <tbody>\n",
       "    <tr>\n",
       "      <th>120</th>\n",
       "      <td>0.000722</td>\n",
       "    </tr>\n",
       "    <tr>\n",
       "      <th>121</th>\n",
       "      <td>0.000722</td>\n",
       "    </tr>\n",
       "    <tr>\n",
       "      <th>122</th>\n",
       "      <td>0.000716</td>\n",
       "    </tr>\n",
       "    <tr>\n",
       "      <th>123</th>\n",
       "      <td>0.000701</td>\n",
       "    </tr>\n",
       "    <tr>\n",
       "      <th>124</th>\n",
       "      <td>0.000700</td>\n",
       "    </tr>\n",
       "  </tbody>\n",
       "</table>\n",
       "</div>"
      ],
      "text/plain": [
       "       ms_err\n",
       "120  0.000722\n",
       "121  0.000722\n",
       "122  0.000716\n",
       "123  0.000701\n",
       "124  0.000700"
      ]
     },
     "execution_count": 479,
     "metadata": {},
     "output_type": "execute_result"
    }
   ],
   "source": [
    "MSPE1 = pd.DataFrame(ppp_model.ms_err)\n",
    "MSPE1.head()"
   ]
  },
  {
   "cell_type": "code",
   "execution_count": 480,
   "metadata": {
    "collapsed": false
   },
   "outputs": [
    {
     "name": "stdout",
     "output_type": "stream",
     "text": [
      "<class 'pandas.core.frame.DataFrame'>\n",
      "Int64Index: 359 entries, 120 to 478\n",
      "Data columns (total 1 columns):\n",
      "ms_err    359 non-null float64\n",
      "dtypes: float64(1)\n",
      "memory usage: 5.6 KB\n"
     ]
    }
   ],
   "source": [
    "MSPE1.info()"
   ]
  },
  {
   "cell_type": "code",
   "execution_count": 481,
   "metadata": {
    "collapsed": false
   },
   "outputs": [
    {
     "name": "stdout",
     "output_type": "stream",
     "text": [
      "ms_err    0.000616\n",
      "dtype: float64\n"
     ]
    }
   ],
   "source": [
    "#The average of MSPE\n",
    "MSPE_ppp = MSPE1.mean()\n",
    "print(MSPE_ppp)"
   ]
  },
  {
   "cell_type": "markdown",
   "metadata": {},
   "source": [
    "## 9.2 the Benchmark Model: Random Walk Model"
   ]
  },
  {
   "cell_type": "markdown",
   "metadata": {
    "collapsed": true
   },
   "source": [
    "Recall that by the definition of the random walk without drift, exchange rates follow a martingale difference process, in other words, $E(\\mathbf{e}_{t+1}|\\mathbf{e}_t, \\mathbf{e}_{t-1}, …, \\mathbf{e}_0) = \\mathbf{e}_t$ for all t; the best prediction of $\\mathbf{e}_{t+1}$ is $\\mathbf{e}_t$ for all t >= 0. \n",
    "\n",
    "Therefore, in my case, the predicted results of change_logex should all be 0.\n",
    "\n",
    "Thus, to calculate the MSPEs for the random walk model, we need to substract the predicted results from the actual values of change_logex. i.e. MSPEs should be:"
   ]
  },
  {
   "cell_type": "code",
   "execution_count": 482,
   "metadata": {
    "collapsed": false
   },
   "outputs": [
    {
     "data": {
      "text/plain": [
       "1   -0.001184\n",
       "2   -0.042032\n",
       "3   -0.050947\n",
       "4   -0.021018\n",
       "5   -0.024582\n",
       "Name: change_logex, dtype: float64"
      ]
     },
     "execution_count": 482,
     "metadata": {},
     "output_type": "execute_result"
    }
   ],
   "source": [
    "MSPE2 = 0 - df1.change_logex\n",
    "MSPE2.head()"
   ]
  },
  {
   "cell_type": "markdown",
   "metadata": {},
   "source": [
    "Therefore, the average of MSPE for the random walk model is:"
   ]
  },
  {
   "cell_type": "code",
   "execution_count": 483,
   "metadata": {
    "collapsed": false
   },
   "outputs": [
    {
     "name": "stdout",
     "output_type": "stream",
     "text": [
      "-0.0006046660666794433\n"
     ]
    }
   ],
   "source": [
    "MSPE_rw = MSPE2.mean()\n",
    "print(MSPE_rw) "
   ]
  },
  {
   "cell_type": "markdown",
   "metadata": {},
   "source": [
    "# Conclusion"
   ]
  },
  {
   "cell_type": "markdown",
   "metadata": {},
   "source": [
    "#### The MSPE of random walk is smaller than the MSPE of the PPP model. The exchange rate follows a random walk, so there is a disconnect between the exchange rate forecasting with the convetional macroeconomic model of the Purchasing Power Parity."
   ]
  },
  {
   "cell_type": "markdown",
   "metadata": {},
   "source": [
    "# Reference"
   ]
  },
  {
   "cell_type": "markdown",
   "metadata": {},
   "source": [
    "Meese, R. and Rogoff, K. (1983). Empirical exchange rate models of the seventies. Journal\n",
    "   of International Economics, 14(1-2), pp.3-24."
   ]
  },
  {
   "cell_type": "code",
   "execution_count": null,
   "metadata": {
    "collapsed": true
   },
   "outputs": [],
   "source": []
  }
 ],
 "metadata": {
  "anaconda-cloud": {},
  "kernelspec": {
   "display_name": "py36",
   "language": "python",
   "name": "py36"
  },
  "language_info": {
   "codemirror_mode": {
    "name": "ipython",
    "version": 3
   },
   "file_extension": ".py",
   "mimetype": "text/x-python",
   "name": "python",
   "nbconvert_exporter": "python",
   "pygments_lexer": "ipython3",
   "version": "3.6.7"
  }
 },
 "nbformat": 4,
 "nbformat_minor": 1
}
